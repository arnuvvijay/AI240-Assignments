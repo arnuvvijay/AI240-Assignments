{
 "cells": [
  {
   "cell_type": "code",
   "execution_count": 15,
   "id": "3af4de92-8816-43c3-8eaf-76ef15ba2d27",
   "metadata": {},
   "outputs": [
    {
     "name": "stdout",
     "output_type": "stream",
     "text": [
      "Requirement already satisfied: numpy in c:\\users\\arnuv\\anaconda3\\envs\\my-environment\\lib\\site-packages (2.3.3)\n"
     ]
    }
   ],
   "source": [
    "!pip install numpy"
   ]
  },
  {
   "cell_type": "code",
   "execution_count": 6,
   "id": "44d08d6f-b8c3-4696-880c-3039480ea897",
   "metadata": {},
   "outputs": [
    {
     "name": "stdout",
     "output_type": "stream",
     "text": [
      "[1 2 3 4 5] 5 <class 'numpy.ndarray'> (5,)\n",
      "[[1 2 3 4]\n",
      " [5 6 7 8]]\n",
      "[1 2 3 4]\n",
      "1\n",
      "[2 3 4 5]\n",
      "[  1   5   6  22  65  77 654]\n",
      "['apple' 'fruit' 'kind' 'smart']\n",
      "(array([3]),)\n",
      "[ 9  5  8 55 89 76]\n"
     ]
    }
   ],
   "source": [
    "import numpy as np\n",
    "data = np.array([1,2,3,4,5])\n",
    "print(data, len(data), type(data), data.shape)\n",
    "\n",
    "arr = np.array([[1,2,3,4],[5,6,7,8]])\n",
    "print(arr)\n",
    "print(arr[0])\n",
    "print(arr[0][0])\n",
    "\n",
    "arr2 = np.array([1,2,3,4,5,6,7,8,9])\n",
    "print(arr2[1:5])\n",
    "\n",
    "arr3 = np.array([5,22,65,6,1,654,77])\n",
    "print(np.sort(arr3))\n",
    "\n",
    "arr4 = np.array(['kind', 'smart', 'fruit', 'apple'])\n",
    "print(np.sort(arr4))\n",
    "\n",
    "arr5 = np.array([3,2,14,9,10,12])\n",
    "print(np.where(arr5 == 9))\n",
    "\n",
    "arr6 = np.array([9,5,8])\n",
    "arr7 = np.array([55,89,76])\n",
    "combined_array = np.concatenate((arr6, arr7))\n",
    "print(combined_array)"
   ]
  }
 ],
 "metadata": {
  "kernelspec": {
   "display_name": "Python 3 (ipykernel)",
   "language": "python",
   "name": "python3"
  },
  "language_info": {
   "codemirror_mode": {
    "name": "ipython",
    "version": 3
   },
   "file_extension": ".py",
   "mimetype": "text/x-python",
   "name": "python",
   "nbconvert_exporter": "python",
   "pygments_lexer": "ipython3",
   "version": "3.13.7"
  }
 },
 "nbformat": 4,
 "nbformat_minor": 5
}
