{
 "cells": [
  {
   "cell_type": "code",
   "execution_count": 14,
   "id": "441e3dd9-4c67-421a-8567-155b2766d4f3",
   "metadata": {},
   "outputs": [],
   "source": [
    "import matplotlib.pyplot as plt\n",
    "import seaborn as sns\n",
    "\n",
    "iris = sns.load_dataset(\"iris\")\n",
    "iris.head()\n",
    "\n",
    "#PAIRPLOT\n",
    "# sns.pairplot(iris, hue='species',height=3)\n",
    "\n",
    "#BOX PLOTS\n",
    "# plt.figure(figsize=(10,8))\n",
    "# sns.boxplot(data=iris)\n",
    "\n",
    "#VIOLIN PLOT\n",
    "species_color = ['#78C850','#F08030','#6890F0']\n",
    "# sns.violinplot(data=iris, palette=species_color)\n",
    "\n",
    "#HISTOGRAMS\n",
    "# sns.histplot(iris, x='petal_length', kde=True)\n",
    "\n",
    "penguins = sns.load_dataset(\"penguins\")\n",
    "# sns.histplot(penguins, x='flipper_length_mm')\n",
    "\n",
    "\n",
    "#SWARM PLOT\n",
    "# sns.swarmplot(y='petal_length', x='species',data=iris, palette=species_color)\n",
    "\n",
    "\n",
    "#BAR PLOTS\n",
    "# sns.barplot(penguins,x='island',y = 'body_mass_g')\\\n",
    "\n",
    "\n",
    "#Heatmap Plot ##didn't work because it couldn't convert the string 'setosa' to a float and i'm not entirely sure how to fix that\n",
    "# corrmat = iris.corr()\n",
    "# sns.heatmap(corrmat,annot=True, square=True)\n"
   ]
  }
 ],
 "metadata": {
  "kernelspec": {
   "display_name": "Python 3 (ipykernel)",
   "language": "python",
   "name": "python3"
  },
  "language_info": {
   "codemirror_mode": {
    "name": "ipython",
    "version": 3
   },
   "file_extension": ".py",
   "mimetype": "text/x-python",
   "name": "python",
   "nbconvert_exporter": "python",
   "pygments_lexer": "ipython3",
   "version": "3.13.7"
  }
 },
 "nbformat": 4,
 "nbformat_minor": 5
}
